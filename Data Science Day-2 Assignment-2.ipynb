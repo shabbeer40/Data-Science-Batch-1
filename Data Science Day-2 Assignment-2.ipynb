{
 "cells": [
  {
   "cell_type": "markdown",
   "metadata": {},
   "source": [
    "# Question No-1"
   ]
  },
  {
   "cell_type": "code",
   "execution_count": 6,
   "metadata": {},
   "outputs": [
    {
     "name": "stdout",
     "output_type": "stream",
     "text": [
      "1\n",
      "3\n",
      "5\n",
      "6\n",
      "7\n",
      "8\n",
      "9\n",
      "4\n",
      "2\n",
      "5\n",
      "[6, 8, 4, 2]\n"
     ]
    }
   ],
   "source": [
    "l=[]\n",
    "i=0\n",
    "while i<10:\n",
    "    n=int(input())\n",
    "    if n%2==0:\n",
    "        l.append(n)\n",
    "    i+=1\n",
    "print(l)"
   ]
  },
  {
   "cell_type": "markdown",
   "metadata": {},
   "source": [
    "# Question No-2"
   ]
  },
  {
   "cell_type": "code",
   "execution_count": 7,
   "metadata": {},
   "outputs": [
    {
     "data": {
      "text/plain": [
       "[1, 4, 9, 16, 25, 36]"
      ]
     },
     "execution_count": 7,
     "metadata": {},
     "output_type": "execute_result"
    }
   ],
   "source": [
    "l=[1,2,3,4,5,6]\n",
    "l_square=[num**2 for num in l]\n",
    "l_square"
   ]
  },
  {
   "cell_type": "markdown",
   "metadata": {},
   "source": [
    "# Question No-3 "
   ]
  },
  {
   "cell_type": "code",
   "execution_count": 9,
   "metadata": {},
   "outputs": [
    {
     "name": "stdout",
     "output_type": "stream",
     "text": [
      "8\n",
      "{1: 1, 2: 4, 3: 9, 4: 16, 5: 25, 6: 36, 7: 49, 8: 64}\n"
     ]
    }
   ],
   "source": [
    "n=int(input())\n",
    "d={num:num*num for num in range(1,n+1)}\n",
    "print(d)"
   ]
  },
  {
   "cell_type": "markdown",
   "metadata": {},
   "source": [
    "# Question No-4"
   ]
  },
  {
   "cell_type": "code",
   "execution_count": 15,
   "metadata": {},
   "outputs": [
    {
     "name": "stdout",
     "output_type": "stream",
     "text": [
      "4\n",
      "UP 5\n",
      "DOWN 3\n",
      "LEFT 3\n",
      "RIGHT 2\n",
      "2\n"
     ]
    }
   ],
   "source": [
    "import math as m\n",
    "\n",
    "n=int(input())\n",
    "data={'x':0,'y':0}\n",
    "\n",
    "for num in range(n):\n",
    "    s=input().upper()\n",
    "    pos=s.find(\" \")\n",
    "    \n",
    "    direction=\"\"\n",
    "    step=0\n",
    "    if pos !=-1:\n",
    "        direction = s[0:pos]\n",
    "        step=int(s[pos+1:len(s)])\n",
    "    \n",
    "    \n",
    "    if direction == \"UP\":\n",
    "        data['x']+=step\n",
    "    elif direction ==\"DOWN\":\n",
    "        data['x']-=step\n",
    "    elif direction ==\"LEFT\":\n",
    "        data['y']-=step\n",
    "    elif direction ==\"RIGHT\":\n",
    "        data['y']+=step\n",
    "    else:\n",
    "        print(\"Error: Wrong direction\")\n",
    "data\n",
    "\n",
    "dist= m.sqrt(data['x']**2+data['y']**2)\n",
    "print(str(round(dist)))"
   ]
  },
  {
   "cell_type": "code",
   "execution_count": null,
   "metadata": {},
   "outputs": [],
   "source": []
  }
 ],
 "metadata": {
  "kernelspec": {
   "display_name": "Python 3",
   "language": "python",
   "name": "python3"
  },
  "language_info": {
   "codemirror_mode": {
    "name": "ipython",
    "version": 3
   },
   "file_extension": ".py",
   "mimetype": "text/x-python",
   "name": "python",
   "nbconvert_exporter": "python",
   "pygments_lexer": "ipython3",
   "version": "3.8.3"
  }
 },
 "nbformat": 4,
 "nbformat_minor": 4
}
