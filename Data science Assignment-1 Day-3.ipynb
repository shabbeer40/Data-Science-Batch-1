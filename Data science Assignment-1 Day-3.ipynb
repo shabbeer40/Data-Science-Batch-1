{
 "cells": [
  {
   "cell_type": "markdown",
   "metadata": {},
   "source": [
    "# Question No-1"
   ]
  },
  {
   "cell_type": "code",
   "execution_count": 3,
   "metadata": {},
   "outputs": [
    {
     "name": "stdout",
     "output_type": "stream",
     "text": [
      "[ 2  5  8 11 14 17 20 23 26 29 32 35 38 41 44 47]\n"
     ]
    }
   ],
   "source": [
    "import numpy as np\n",
    "\n",
    "arr=np.arange(2,50,3)\n",
    "\n",
    "print(arr)"
   ]
  },
  {
   "cell_type": "code",
   "execution_count": null,
   "metadata": {},
   "outputs": [],
   "source": []
  },
  {
   "cell_type": "markdown",
   "metadata": {},
   "source": [
    "# Quesyion No-2"
   ]
  },
  {
   "cell_type": "code",
   "execution_count": 6,
   "metadata": {},
   "outputs": [
    {
     "name": "stdout",
     "output_type": "stream",
     "text": [
      "Enter list1 Elements:\n",
      "9\n",
      "8\n",
      "7\n",
      "6\n",
      "5\n",
      "Enter list2 Elements:\n",
      "0\n",
      "1\n",
      "2\n",
      "3\n",
      "4\n",
      "Concatenate array:\n",
      "[9 8 7 6 5 0 1 2 3 4]\n",
      "Sorted array:\n",
      "[0 1 2 3 4 5 6 7 8 9]\n"
     ]
    }
   ],
   "source": [
    "import numpy as np\n",
    "\n",
    "list1=[]\n",
    "list2=[]\n",
    "print(\"Enter list1 Elements:\")\n",
    "for i in range(5):\n",
    "    x=int(input())\n",
    "    list1.append(x)\n",
    "\n",
    "print(\"Enter list2 Elements:\")\n",
    "for i in range(5):\n",
    "    x=int(input())\n",
    "    list2.append(x)\n",
    "\n",
    "arr1=np.array(list1)\n",
    "arr2=np.array(list2)\n",
    "\n",
    "print(\"Concatenate array:\")\n",
    "arr3=np.concatenate((arr1,arr2))\n",
    "print(arr3)\n",
    "\n",
    "print(\"Sorted array:\")\n",
    "arr4=np.sort(arr3)\n",
    "print(arr4)"
   ]
  },
  {
   "cell_type": "code",
   "execution_count": null,
   "metadata": {},
   "outputs": [],
   "source": []
  },
  {
   "cell_type": "markdown",
   "metadata": {},
   "source": [
    "# Question No-3"
   ]
  },
  {
   "cell_type": "code",
   "execution_count": 13,
   "metadata": {},
   "outputs": [
    {
     "name": "stdout",
     "output_type": "stream",
     "text": [
      "Dimentions of ndrray: 2\n",
      "Size of the Array: 9\n"
     ]
    }
   ],
   "source": [
    "import numpy as np\n",
    "arr=np.array([[2,3,4],[4,5,6],[7,8,9]])\n",
    "\n",
    "print(\"Dimentions of ndrray:\",arr.ndim)\n",
    "\n",
    "print(\"Size of the Array:\",arr.size)"
   ]
  },
  {
   "cell_type": "code",
   "execution_count": null,
   "metadata": {},
   "outputs": [],
   "source": []
  },
  {
   "cell_type": "markdown",
   "metadata": {},
   "source": [
    "# Question No-4\n"
   ]
  },
  {
   "cell_type": "markdown",
   "metadata": {},
   "source": [
    "# 1.Newaxis Snippet"
   ]
  },
  {
   "cell_type": "code",
   "execution_count": 15,
   "metadata": {},
   "outputs": [
    {
     "name": "stdout",
     "output_type": "stream",
     "text": [
      "Shape of the array: (8,)\n",
      "Shape of 2d array ROW Major: (1, 8)\n",
      "Shape of 2d array Column Major: (8, 1)\n"
     ]
    }
   ],
   "source": [
    "import numpy as np\n",
    "\n",
    "arr=np.arange(8)\n",
    "print(\"Shape of the array:\",arr.shape)\n",
    "\n",
    "row_arr=arr[np.newaxis, :]\n",
    "print(\"Shape of 2d array ROW Major:\",row_arr.shape)\n",
    "\n",
    "colm_arr=arr[: ,np.newaxis]\n",
    "print(\"Shape of 2d array Column Major:\",colm_arr.shape)"
   ]
  },
  {
   "cell_type": "markdown",
   "metadata": {},
   "source": [
    "# 2.Expand Snippet"
   ]
  },
  {
   "cell_type": "code",
   "execution_count": 16,
   "metadata": {},
   "outputs": [
    {
     "name": "stdout",
     "output_type": "stream",
     "text": [
      "Shape of the array: (8,)\n",
      "Shape of 2d array ROW Major: (1, 8)\n",
      "Shape of 2d array Column Major: (8, 1)\n"
     ]
    }
   ],
   "source": [
    "import numpy as np\n",
    "\n",
    "arr=np.arange(8)\n",
    "print(\"Shape of the array:\",arr.shape)\n",
    "\n",
    "row_arr=np.expand_dims(arr,axis=0)\n",
    "print(\"Shape of 2d array ROW Major:\",row_arr.shape)\n",
    "\n",
    "colm_arr=np.expand_dims(arr,axis=1)\n",
    "print(\"Shape of 2d array Column Major:\",colm_arr.shape)"
   ]
  },
  {
   "cell_type": "code",
   "execution_count": null,
   "metadata": {},
   "outputs": [],
   "source": []
  },
  {
   "cell_type": "markdown",
   "metadata": {},
   "source": [
    "# Question No-5"
   ]
  },
  {
   "cell_type": "code",
   "execution_count": 20,
   "metadata": {},
   "outputs": [
    {
     "name": "stdout",
     "output_type": "stream",
     "text": [
      "Stack Horizontal: [  1   4   9  16  25 100  81  64  49  36]\n",
      "Stack Vertical: [[  1   4   9  16  25]\n",
      " [100  81  64  49  36]]\n"
     ]
    }
   ],
   "source": [
    "import numpy as np\n",
    "\n",
    "arr1=np.square([1,2,3,4,5])\n",
    "arr2=np.square([10,9,8,7,6])\n",
    "\n",
    "print(\"Stack Horizontal:\",np.hstack((arr1,arr2)))\n",
    "print(\"Stack Vertical:\",np.vstack((arr1,arr2)))"
   ]
  },
  {
   "cell_type": "code",
   "execution_count": null,
   "metadata": {},
   "outputs": [],
   "source": []
  },
  {
   "cell_type": "markdown",
   "metadata": {},
   "source": [
    "# Question No-6"
   ]
  },
  {
   "cell_type": "code",
   "execution_count": 23,
   "metadata": {},
   "outputs": [
    {
     "name": "stdout",
     "output_type": "stream",
     "text": [
      "[[ 1  2]\n",
      " [ 2  2]\n",
      " [ 3  3]\n",
      " [ 4  1]\n",
      " [ 5  2]\n",
      " [ 6  2]\n",
      " [ 7  1]\n",
      " [ 8  2]\n",
      " [ 9  2]\n",
      " [25  1]\n",
      " [56  1]\n",
      " [84  1]]\n"
     ]
    }
   ],
   "source": [
    "import numpy as np\n",
    "\n",
    "arr1=np.array([1,2,3,5,3,4,6,7,3,8,6,5,9,8,2,9,1,25,56,84])\n",
    "\n",
    "unique, counts=np.unique(arr1,return_counts=True)\n",
    "\n",
    "arr2=np.asarray((unique,counts)).T\n",
    "print(arr2)"
   ]
  },
  {
   "cell_type": "code",
   "execution_count": null,
   "metadata": {},
   "outputs": [],
   "source": []
  }
 ],
 "metadata": {
  "kernelspec": {
   "display_name": "Python 3",
   "language": "python",
   "name": "python3"
  },
  "language_info": {
   "codemirror_mode": {
    "name": "ipython",
    "version": 3
   },
   "file_extension": ".py",
   "mimetype": "text/x-python",
   "name": "python",
   "nbconvert_exporter": "python",
   "pygments_lexer": "ipython3",
   "version": "3.8.3"
  }
 },
 "nbformat": 4,
 "nbformat_minor": 4
}
